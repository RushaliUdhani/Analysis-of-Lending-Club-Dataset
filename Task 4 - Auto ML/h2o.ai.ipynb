{
 "cells": [
  {
   "cell_type": "code",
   "execution_count": 1,
   "metadata": {},
   "outputs": [
    {
     "name": "stdout",
     "output_type": "stream",
     "text": [
      "Checking whether there is an H2O instance running at http://localhost:54321. connected.\n"
     ]
    },
    {
     "data": {
      "text/html": [
       "<div style=\"overflow:auto\"><table style=\"width:50%\"><tr><td>H2O cluster uptime:</td>\n",
       "<td>2 hours 19 mins</td></tr>\n",
       "<tr><td>H2O cluster timezone:</td>\n",
       "<td>America/New_York</td></tr>\n",
       "<tr><td>H2O data parsing timezone:</td>\n",
       "<td>UTC</td></tr>\n",
       "<tr><td>H2O cluster version:</td>\n",
       "<td>3.22.1.6</td></tr>\n",
       "<tr><td>H2O cluster version age:</td>\n",
       "<td>8 days </td></tr>\n",
       "<tr><td>H2O cluster name:</td>\n",
       "<td>H2O_from_python_honra_smyw0f</td></tr>\n",
       "<tr><td>H2O cluster total nodes:</td>\n",
       "<td>1</td></tr>\n",
       "<tr><td>H2O cluster free memory:</td>\n",
       "<td>2.995 Gb</td></tr>\n",
       "<tr><td>H2O cluster total cores:</td>\n",
       "<td>8</td></tr>\n",
       "<tr><td>H2O cluster allowed cores:</td>\n",
       "<td>8</td></tr>\n",
       "<tr><td>H2O cluster status:</td>\n",
       "<td>locked, healthy</td></tr>\n",
       "<tr><td>H2O connection url:</td>\n",
       "<td>http://localhost:54321</td></tr>\n",
       "<tr><td>H2O connection proxy:</td>\n",
       "<td>None</td></tr>\n",
       "<tr><td>H2O internal security:</td>\n",
       "<td>False</td></tr>\n",
       "<tr><td>H2O API Extensions:</td>\n",
       "<td>Amazon S3, Algos, AutoML, Core V3, Core V4</td></tr>\n",
       "<tr><td>Python version:</td>\n",
       "<td>3.7.1 final</td></tr></table></div>"
      ],
      "text/plain": [
       "--------------------------  ------------------------------------------\n",
       "H2O cluster uptime:         2 hours 19 mins\n",
       "H2O cluster timezone:       America/New_York\n",
       "H2O data parsing timezone:  UTC\n",
       "H2O cluster version:        3.22.1.6\n",
       "H2O cluster version age:    8 days\n",
       "H2O cluster name:           H2O_from_python_honra_smyw0f\n",
       "H2O cluster total nodes:    1\n",
       "H2O cluster free memory:    2.995 Gb\n",
       "H2O cluster total cores:    8\n",
       "H2O cluster allowed cores:  8\n",
       "H2O cluster status:         locked, healthy\n",
       "H2O connection url:         http://localhost:54321\n",
       "H2O connection proxy:\n",
       "H2O internal security:      False\n",
       "H2O API Extensions:         Amazon S3, Algos, AutoML, Core V3, Core V4\n",
       "Python version:             3.7.1 final\n",
       "--------------------------  ------------------------------------------"
      ]
     },
     "metadata": {},
     "output_type": "display_data"
    }
   ],
   "source": [
    "import h2o\n",
    "from h2o.estimators.xgboost import H2OXGBoostEstimator\n",
    "h2o.init()"
   ]
  },
  {
   "cell_type": "code",
   "execution_count": 2,
   "metadata": {},
   "outputs": [
    {
     "name": "stdout",
     "output_type": "stream",
     "text": [
      "Parse progress: |█████████████████████████████████████████████████████████| 100%\n"
     ]
    }
   ],
   "source": [
    "# Import a sample binary outcome training set into H2O\n",
    "train = h2o.import_file(\"loan_cleaned.csv\")"
   ]
  },
  {
   "cell_type": "code",
   "execution_count": 3,
   "metadata": {},
   "outputs": [],
   "source": [
    "# Identify predictors and response\n",
    "x = train.columns\n",
    "y = \"int_rate\"\n",
    "x.remove(y)"
   ]
  },
  {
   "cell_type": "code",
   "execution_count": 11,
   "metadata": {},
   "outputs": [],
   "source": [
    "# try using the `keep_cross_validation_predictions` (boolean parameter):\n",
    "# first initialize your estimator, set nfolds parameter\n",
    "xgb = H2OXGBoostEstimator(keep_cross_validation_predictions = True)"
   ]
  },
  {
   "cell_type": "code",
   "execution_count": null,
   "metadata": {},
   "outputs": [],
   "source": []
  },
  {
   "cell_type": "code",
   "execution_count": 13,
   "metadata": {},
   "outputs": [],
   "source": [
    "from h2o.estimators.gbm import H2OGradientBoostingEstimator"
   ]
  },
  {
   "cell_type": "code",
   "execution_count": 16,
   "metadata": {},
   "outputs": [
    {
     "name": "stdout",
     "output_type": "stream",
     "text": [
      "gbm Model Build progress: |███████████████████████████████████████████████| 100%\n"
     ]
    }
   ],
   "source": [
    "gbm_model = H2OGradientBoostingEstimator()\n",
    "gbm_model.train(x = [\"loan_amnt\", \"annual_inc\", \"dti\", \"delinq_2yrs\", \"inq_last_6mths\", \"total_acc\"], y = \"int_rate\", training_frame=train)"
   ]
  },
  {
   "cell_type": "code",
   "execution_count": 17,
   "metadata": {},
   "outputs": [
    {
     "name": "stdout",
     "output_type": "stream",
     "text": [
      "Model Details\n",
      "=============\n",
      "H2OGradientBoostingEstimator :  Gradient Boosting Machine\n",
      "Model Key:  GBM_model_python_1553291130694_2\n",
      "\n",
      "\n",
      "ModelMetricsRegression: gbm\n",
      "** Reported on train data. **\n",
      "\n",
      "MSE: 15.264566058987779\n",
      "RMSE: 3.906989385573984\n",
      "MAE: 3.1224527941888036\n",
      "RMSLE: 0.2867863710313898\n",
      "Mean Residual Deviance: 15.264566058987779\n",
      "Scoring History: \n"
     ]
    },
    {
     "data": {
      "text/html": [
       "<div style=\"overflow:auto\"><table style=\"width:50%\"><tr><td><b></b></td>\n",
       "<td><b>timestamp</b></td>\n",
       "<td><b>duration</b></td>\n",
       "<td><b>number_of_trees</b></td>\n",
       "<td><b>training_rmse</b></td>\n",
       "<td><b>training_mae</b></td>\n",
       "<td><b>training_deviance</b></td></tr>\n",
       "<tr><td></td>\n",
       "<td>2019-03-22 20:18:38</td>\n",
       "<td> 0.001 sec</td>\n",
       "<td>0.0</td>\n",
       "<td>4.3818649</td>\n",
       "<td>3.5111163</td>\n",
       "<td>19.2007403</td></tr>\n",
       "<tr><td></td>\n",
       "<td>2019-03-22 20:18:38</td>\n",
       "<td> 0.311 sec</td>\n",
       "<td>1.0</td>\n",
       "<td>4.3258577</td>\n",
       "<td>3.4654163</td>\n",
       "<td>18.7130449</td></tr>\n",
       "<tr><td></td>\n",
       "<td>2019-03-22 20:18:39</td>\n",
       "<td> 0.581 sec</td>\n",
       "<td>2.0</td>\n",
       "<td>4.2801573</td>\n",
       "<td>3.4285717</td>\n",
       "<td>18.3197468</td></tr>\n",
       "<tr><td></td>\n",
       "<td>2019-03-22 20:18:39</td>\n",
       "<td> 0.854 sec</td>\n",
       "<td>3.0</td>\n",
       "<td>4.2403485</td>\n",
       "<td>3.3964668</td>\n",
       "<td>17.9805553</td></tr>\n",
       "<tr><td></td>\n",
       "<td>2019-03-22 20:18:39</td>\n",
       "<td> 1.132 sec</td>\n",
       "<td>4.0</td>\n",
       "<td>4.2047119</td>\n",
       "<td>3.3675924</td>\n",
       "<td>17.6796018</td></tr>\n",
       "<tr><td></td>\n",
       "<td>2019-03-22 20:18:39</td>\n",
       "<td> 1.397 sec</td>\n",
       "<td>5.0</td>\n",
       "<td>4.1759116</td>\n",
       "<td>3.3443265</td>\n",
       "<td>17.4382377</td></tr>\n",
       "<tr><td></td>\n",
       "<td>2019-03-22 20:18:40</td>\n",
       "<td> 1.663 sec</td>\n",
       "<td>6.0</td>\n",
       "<td>4.1503297</td>\n",
       "<td>3.3236000</td>\n",
       "<td>17.2252364</td></tr>\n",
       "<tr><td></td>\n",
       "<td>2019-03-22 20:18:40</td>\n",
       "<td> 1.916 sec</td>\n",
       "<td>7.0</td>\n",
       "<td>4.1259194</td>\n",
       "<td>3.3039919</td>\n",
       "<td>17.0232111</td></tr>\n",
       "<tr><td></td>\n",
       "<td>2019-03-22 20:18:40</td>\n",
       "<td> 2.220 sec</td>\n",
       "<td>8.0</td>\n",
       "<td>4.1074963</td>\n",
       "<td>3.2891663</td>\n",
       "<td>16.8715256</td></tr>\n",
       "<tr><td></td>\n",
       "<td>2019-03-22 20:18:40</td>\n",
       "<td> 2.490 sec</td>\n",
       "<td>9.0</td>\n",
       "<td>4.0904784</td>\n",
       "<td>3.2755494</td>\n",
       "<td>16.7320139</td></tr>\n",
       "<tr><td></td>\n",
       "<td>2019-03-22 20:18:41</td>\n",
       "<td> 2.766 sec</td>\n",
       "<td>10.0</td>\n",
       "<td>4.0732543</td>\n",
       "<td>3.2615614</td>\n",
       "<td>16.5914006</td></tr>\n",
       "<tr><td></td>\n",
       "<td>2019-03-22 20:18:41</td>\n",
       "<td> 3.025 sec</td>\n",
       "<td>11.0</td>\n",
       "<td>4.0578412</td>\n",
       "<td>3.2490884</td>\n",
       "<td>16.4660752</td></tr>\n",
       "<tr><td></td>\n",
       "<td>2019-03-22 20:18:41</td>\n",
       "<td> 3.281 sec</td>\n",
       "<td>12.0</td>\n",
       "<td>4.0461687</td>\n",
       "<td>3.2395758</td>\n",
       "<td>16.3714808</td></tr>\n",
       "<tr><td></td>\n",
       "<td>2019-03-22 20:18:41</td>\n",
       "<td> 3.533 sec</td>\n",
       "<td>13.0</td>\n",
       "<td>4.0359201</td>\n",
       "<td>3.2310573</td>\n",
       "<td>16.2886509</td></tr>\n",
       "<tr><td></td>\n",
       "<td>2019-03-22 20:18:42</td>\n",
       "<td> 3.780 sec</td>\n",
       "<td>14.0</td>\n",
       "<td>4.0265935</td>\n",
       "<td>3.2233452</td>\n",
       "<td>16.2134555</td></tr>\n",
       "<tr><td></td>\n",
       "<td>2019-03-22 20:18:46</td>\n",
       "<td> 7.855 sec</td>\n",
       "<td>33.0</td>\n",
       "<td>3.9327247</td>\n",
       "<td>3.1447161</td>\n",
       "<td>15.4663233</td></tr>\n",
       "<tr><td></td>\n",
       "<td>2019-03-22 20:18:49</td>\n",
       "<td>11.444 sec</td>\n",
       "<td>50.0</td>\n",
       "<td>3.9069894</td>\n",
       "<td>3.1224528</td>\n",
       "<td>15.2645661</td></tr></table></div>"
      ],
      "text/plain": [
       "    timestamp            duration    number_of_trees    training_rmse    training_mae    training_deviance\n",
       "--  -------------------  ----------  -----------------  ---------------  --------------  -------------------\n",
       "    2019-03-22 20:18:38  0.001 sec   0                  4.38186          3.51112         19.2007\n",
       "    2019-03-22 20:18:38  0.311 sec   1                  4.32586          3.46542         18.713\n",
       "    2019-03-22 20:18:39  0.581 sec   2                  4.28016          3.42857         18.3197\n",
       "    2019-03-22 20:18:39  0.854 sec   3                  4.24035          3.39647         17.9806\n",
       "    2019-03-22 20:18:39  1.132 sec   4                  4.20471          3.36759         17.6796\n",
       "    2019-03-22 20:18:39  1.397 sec   5                  4.17591          3.34433         17.4382\n",
       "    2019-03-22 20:18:40  1.663 sec   6                  4.15033          3.3236          17.2252\n",
       "    2019-03-22 20:18:40  1.916 sec   7                  4.12592          3.30399         17.0232\n",
       "    2019-03-22 20:18:40  2.220 sec   8                  4.1075           3.28917         16.8715\n",
       "    2019-03-22 20:18:40  2.490 sec   9                  4.09048          3.27555         16.732\n",
       "    2019-03-22 20:18:41  2.766 sec   10                 4.07325          3.26156         16.5914\n",
       "    2019-03-22 20:18:41  3.025 sec   11                 4.05784          3.24909         16.4661\n",
       "    2019-03-22 20:18:41  3.281 sec   12                 4.04617          3.23958         16.3715\n",
       "    2019-03-22 20:18:41  3.533 sec   13                 4.03592          3.23106         16.2887\n",
       "    2019-03-22 20:18:42  3.780 sec   14                 4.02659          3.22335         16.2135\n",
       "    2019-03-22 20:18:46  7.855 sec   33                 3.93272          3.14472         15.4663\n",
       "    2019-03-22 20:18:49  11.444 sec  50                 3.90699          3.12245         15.2646"
      ]
     },
     "metadata": {},
     "output_type": "display_data"
    },
    {
     "name": "stdout",
     "output_type": "stream",
     "text": [
      "Variable Importances: \n"
     ]
    },
    {
     "data": {
      "text/html": [
       "<div style=\"overflow:auto\"><table style=\"width:50%\"><tr><td><b>variable</b></td>\n",
       "<td><b>relative_importance</b></td>\n",
       "<td><b>scaled_importance</b></td>\n",
       "<td><b>percentage</b></td></tr>\n",
       "<tr><td>loan_amnt</td>\n",
       "<td>6078377.0</td>\n",
       "<td>1.0</td>\n",
       "<td>0.3306561</td></tr>\n",
       "<tr><td>inq_last_6mths</td>\n",
       "<td>5172861.0</td>\n",
       "<td>0.8510267</td>\n",
       "<td>0.2813972</td></tr>\n",
       "<tr><td>annual_inc</td>\n",
       "<td>3311199.5</td>\n",
       "<td>0.5447506</td>\n",
       "<td>0.1801251</td></tr>\n",
       "<tr><td>dti</td>\n",
       "<td>2015919.8750000</td>\n",
       "<td>0.3316543</td>\n",
       "<td>0.1096635</td></tr>\n",
       "<tr><td>total_acc</td>\n",
       "<td>1144066.8750000</td>\n",
       "<td>0.1882191</td>\n",
       "<td>0.0622358</td></tr>\n",
       "<tr><td>delinq_2yrs</td>\n",
       "<td>660350.1875000</td>\n",
       "<td>0.1086392</td>\n",
       "<td>0.0359222</td></tr></table></div>"
      ],
      "text/plain": [
       "variable        relative_importance    scaled_importance    percentage\n",
       "--------------  ---------------------  -------------------  ------------\n",
       "loan_amnt       6.07838e+06            1                    0.330656\n",
       "inq_last_6mths  5.17286e+06            0.851027             0.281397\n",
       "annual_inc      3.3112e+06             0.544751             0.180125\n",
       "dti             2.01592e+06            0.331654             0.109664\n",
       "total_acc       1.14407e+06            0.188219             0.0622358\n",
       "delinq_2yrs     660350                 0.108639             0.0359222"
      ]
     },
     "metadata": {},
     "output_type": "display_data"
    },
    {
     "name": "stdout",
     "output_type": "stream",
     "text": [
      "\n",
      "int_rate\n"
     ]
    }
   ],
   "source": [
    "print(gbm_model)\n",
    "print(y)"
   ]
  },
  {
   "cell_type": "code",
   "execution_count": 18,
   "metadata": {},
   "outputs": [
    {
     "name": "stdout",
     "output_type": "stream",
     "text": [
      "gbm prediction progress: |████████████████████████████████████████████████| 100%\n"
     ]
    },
    {
     "data": {
      "text/html": [
       "<table>\n",
       "<thead>\n",
       "<tr><th style=\"text-align: right;\">  predict</th></tr>\n",
       "</thead>\n",
       "<tbody>\n",
       "<tr><td style=\"text-align: right;\">  14.1041</td></tr>\n",
       "<tr><td style=\"text-align: right;\">  14.9841</td></tr>\n",
       "<tr><td style=\"text-align: right;\">  15.755 </td></tr>\n",
       "<tr><td style=\"text-align: right;\">  12.3765</td></tr>\n",
       "<tr><td style=\"text-align: right;\">  10.6444</td></tr>\n",
       "<tr><td style=\"text-align: right;\">  14.7462</td></tr>\n",
       "<tr><td style=\"text-align: right;\">  13.5547</td></tr>\n",
       "<tr><td style=\"text-align: right;\">  15.3417</td></tr>\n",
       "<tr><td style=\"text-align: right;\">  14.0267</td></tr>\n",
       "<tr><td style=\"text-align: right;\">  14.1839</td></tr>\n",
       "</tbody>\n",
       "</table>"
      ]
     },
     "metadata": {},
     "output_type": "display_data"
    },
    {
     "data": {
      "text/plain": []
     },
     "execution_count": 18,
     "metadata": {},
     "output_type": "execute_result"
    }
   ],
   "source": [
    "gbm_model.predict(train)"
   ]
  },
  {
   "cell_type": "code",
   "execution_count": null,
   "metadata": {},
   "outputs": [],
   "source": [
    "#Mean Absolute Percentage Error for Linear Regression Model\n",
    "def mean_absolute_percentage_error(y_true, y_pred):\n",
    "    y_true, y_pred = np.array(y_true), np.array(y_pred)\n",
    "    return np.mean(np.abs((y_true - y_pred) / y_true)) * 100"
   ]
  }
 ],
 "metadata": {
  "kernelspec": {
   "display_name": "Python 3",
   "language": "python",
   "name": "python3"
  },
  "language_info": {
   "codemirror_mode": {
    "name": "ipython",
    "version": 3
   },
   "file_extension": ".py",
   "mimetype": "text/x-python",
   "name": "python",
   "nbconvert_exporter": "python",
   "pygments_lexer": "ipython3",
   "version": "3.7.1"
  }
 },
 "nbformat": 4,
 "nbformat_minor": 2
}
